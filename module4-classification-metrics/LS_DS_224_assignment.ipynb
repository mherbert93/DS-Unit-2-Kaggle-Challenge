{
  "nbformat": 4,
  "nbformat_minor": 0,
  "metadata": {
    "kernelspec": {
      "display_name": "Python 3",
      "language": "python",
      "name": "python3"
    },
    "language_info": {
      "codemirror_mode": {
        "name": "ipython",
        "version": 3
      },
      "file_extension": ".py",
      "mimetype": "text/x-python",
      "name": "python",
      "nbconvert_exporter": "python",
      "pygments_lexer": "ipython3",
      "version": "3.7.6"
    },
    "colab": {
      "name": "LS_DS_224_assignment.ipynb",
      "provenance": [],
      "include_colab_link": true
    }
  },
  "cells": [
    {
      "cell_type": "markdown",
      "metadata": {
        "id": "view-in-github",
        "colab_type": "text"
      },
      "source": [
        "<a href=\"https://colab.research.google.com/github/mherbert93/DS-Unit-2-Kaggle-Challenge/blob/master/module4-classification-metrics/LS_DS_224_assignment.ipynb\" target=\"_parent\"><img src=\"https://colab.research.google.com/assets/colab-badge.svg\" alt=\"Open In Colab\"/></a>"
      ]
    },
    {
      "cell_type": "markdown",
      "metadata": {
        "id": "T2DNpdV4matT",
        "colab_type": "text"
      },
      "source": [
        "Lambda School Data Science\n",
        "\n",
        "*Unit 2, Sprint 2, Module 4*\n",
        "\n",
        "---"
      ]
    },
    {
      "cell_type": "markdown",
      "metadata": {
        "colab_type": "text",
        "id": "nCc3XZEyG3XV"
      },
      "source": [
        "# Classification Metrics\n",
        "\n",
        "## Assignment\n",
        "- [x] If you haven't yet, [review requirements for your portfolio project](https://lambdaschool.github.io/ds/unit2), then submit your dataset.\n",
        "- [x] Plot a confusion matrix for your Tanzania Waterpumps model.\n",
        "- [x] Continue to participate in our Kaggle challenge. Every student should have made at least one submission that scores at least 70% accuracy (well above the majority class baseline).\n",
        "- [x] Submit your final predictions to our Kaggle competition. Optionally, go to **My Submissions**, and _\"you may select up to 1 submission to be used to count towards your final leaderboard score.\"_\n",
        "- [x] Commit your notebook to your fork of the GitHub repo.\n",
        "- [x] Read [Maximizing Scarce Maintenance Resources with Data: Applying predictive modeling, precision at k, and clustering to optimize impact](https://towardsdatascience.com/maximizing-scarce-maintenance-resources-with-data-8f3491133050), by Lambda DS3 student Michael Brady. His blog post extends the Tanzania Waterpumps scenario, far beyond what's in the lecture notebook.\n",
        "\n",
        "\n",
        "## Stretch Goals\n",
        "\n",
        "### Reading\n",
        "\n",
        "- [Attacking discrimination with smarter machine learning](https://research.google.com/bigpicture/attacking-discrimination-in-ml/), by Google Research, with  interactive visualizations. _\"A threshold classifier essentially makes a yes/no decision, putting things in one category or another. We look at how these classifiers work, ways they can potentially be unfair, and how you might turn an unfair classifier into a fairer one. As an illustrative example, we focus on loan granting scenarios where a bank may grant or deny a loan based on a single, automatically computed number such as a credit score.\"_\n",
        "- [Notebook about how to calculate expected value from a confusion matrix by treating it as a cost-benefit matrix](https://github.com/podopie/DAT18NYC/blob/master/classes/13-expected_value_cost_benefit_analysis.ipynb)\n",
        "- [Visualizing Machine Learning Thresholds to Make Better Business Decisions](https://blog.insightdatascience.com/visualizing-machine-learning-thresholds-to-make-better-business-decisions-4ab07f823415)\n",
        "\n",
        "\n",
        "### Doing\n",
        "- [ ] Share visualizations in our Slack channel!\n",
        "- [ ] RandomizedSearchCV / GridSearchCV, for model selection. (See module 3 assignment notebook)\n",
        "- [ ] Stacking Ensemble. (See module 3 assignment notebook)\n",
        "- [ ] More Categorical Encoding. (See module 2 assignment notebook)"
      ]
    },
    {
      "cell_type": "code",
      "metadata": {
        "colab_type": "code",
        "id": "lsbRiKBoB5RE",
        "colab": {}
      },
      "source": [
        "%%capture\n",
        "import sys\n",
        "\n",
        "# If you're on Colab:\n",
        "if 'google.colab' in sys.modules:\n",
        "    DATA_PATH = 'https://raw.githubusercontent.com/LambdaSchool/DS-Unit-2-Kaggle-Challenge/master/data/'\n",
        "    !pip install category_encoders==2.*\n",
        "\n",
        "# If you're working locally:\n",
        "else:\n",
        "    DATA_PATH = '../data/'"
      ],
      "execution_count": 0,
      "outputs": []
    },
    {
      "cell_type": "code",
      "metadata": {
        "colab_type": "code",
        "id": "BVA1lph8CcNX",
        "colab": {}
      },
      "source": [
        "import pandas as pd\n",
        "\n",
        "# Merge train_features.csv & train_labels.csv\n",
        "train = pd.merge(pd.read_csv(DATA_PATH+'waterpumps/train_features.csv'), \n",
        "                 pd.read_csv(DATA_PATH+'waterpumps/train_labels.csv'))\n",
        "\n",
        "# Read test_features.csv & sample_submission.csv\n",
        "test = pd.read_csv(DATA_PATH+'waterpumps/test_features.csv')\n",
        "sample_submission = pd.read_csv(DATA_PATH+'waterpumps/sample_submission.csv')"
      ],
      "execution_count": 0,
      "outputs": []
    },
    {
      "cell_type": "code",
      "metadata": {
        "id": "JdSlCol9FMjR",
        "colab_type": "code",
        "colab": {
          "base_uri": "https://localhost:8080/",
          "height": 35
        },
        "outputId": "b2d240df-2501-4ce1-9a1c-2e5e1b3f96a7"
      },
      "source": [
        "import pandas as pd\n",
        "from sklearn.model_selection import train_test_split\n",
        "\n",
        "train, validation = train_test_split(train, train_size=0.80, test_size=0.20, stratify=train['status_group'], random_state=1337)\n",
        "train.shape, validation.shape, test.shape"
      ],
      "execution_count": 4,
      "outputs": [
        {
          "output_type": "execute_result",
          "data": {
            "text/plain": [
              "((47520, 41), (11880, 41), (14358, 40))"
            ]
          },
          "metadata": {
            "tags": []
          },
          "execution_count": 4
        }
      ]
    },
    {
      "cell_type": "code",
      "metadata": {
        "id": "t-yrodagFPgM",
        "colab_type": "code",
        "colab": {}
      },
      "source": [
        "target = 'status_group'\n",
        "\n",
        "y_train = train[target]\n",
        "y_validation = validation[target]"
      ],
      "execution_count": 0,
      "outputs": []
    },
    {
      "cell_type": "code",
      "metadata": {
        "id": "l6lJutq6FTiR",
        "colab_type": "code",
        "colab": {
          "base_uri": "https://localhost:8080/",
          "height": 35
        },
        "outputId": "9af9aaf0-4fd4-4ad7-f8a3-bd30f0820b02"
      },
      "source": [
        "from sklearn.metrics import accuracy_score\n",
        "\n",
        "majority_class = y_train.mode()[0]\n",
        "y_pred = [majority_class] * len(y_train)\n",
        "\n",
        "print(\"Train dataset baseline accuracy is: \", accuracy_score(y_train, y_pred))"
      ],
      "execution_count": 6,
      "outputs": [
        {
          "output_type": "stream",
          "text": [
            "Train dataset baseline accuracy is:  0.5430765993265994\n"
          ],
          "name": "stdout"
        }
      ]
    },
    {
      "cell_type": "code",
      "metadata": {
        "id": "iW4P3rH4FVS_",
        "colab_type": "code",
        "colab": {
          "base_uri": "https://localhost:8080/",
          "height": 35
        },
        "outputId": "0c2a44b1-02bc-4540-9cee-cd4d19419f68"
      },
      "source": [
        "y_pred = [majority_class] * len(y_validation)\n",
        "\n",
        "print(\"Validation dataset baseline accuracy is: \", accuracy_score(y_validation, y_pred))"
      ],
      "execution_count": 7,
      "outputs": [
        {
          "output_type": "stream",
          "text": [
            "Validation dataset baseline accuracy is:  0.5430976430976431\n"
          ],
          "name": "stdout"
        }
      ]
    },
    {
      "cell_type": "code",
      "metadata": {
        "id": "id9KPB-XFX-W",
        "colab_type": "code",
        "colab": {}
      },
      "source": [
        "def wrangle(X): #lets clean our data!\n",
        "    import numpy as np\n",
        "    from sklearn.cluster import DBSCAN\n",
        "\n",
        "    X = X.copy()\n",
        "\n",
        "    X['region_code'] = X['region_code'].astype('str') #make categorical\n",
        "    X['district_code'] = X['district_code'].astype('str') #make categorical\n",
        "\n",
        "    X['date_recorded'] = pd.to_datetime(X['date_recorded'], infer_datetime_format=True)\n",
        "\n",
        "    zero_columns = ['district_code', 'construction_year'] #columns that contain high amount of 0 and should not\n",
        "    X['latitude'] = X['latitude'].replace(-2e-08, 0)\n",
        "\n",
        "    for col in zero_columns:\n",
        "        X[col] = X[col].replace(0, np.nan) #set 0 values to null\n",
        "\n",
        "    def impute_longitude_by_region(row): #bin null longitude into its respective region. Gives us a slighter better guess.\n",
        "        if row['longitude'] == 0:\n",
        "            return (X[(X['region'] == row['region']) & (X['longitude'] != 0)].longitude.mean())\n",
        "        else:\n",
        "            return row['longitude']\n",
        "\n",
        "\n",
        "    def impute_latitude_by_region(row): #bin null latitude into its respective region. Gives us a slighter better guess.\n",
        "        if row['latitude'] == 0:\n",
        "            return (X[(X['region'] == row['region']) & (X['latitude'] != 0)].latitude.mean())\n",
        "        else:\n",
        "            return row['latitude']\n",
        "\n",
        "    def impute_gpsheight(row): #bin null gps height into its respective region. Gives us a slighter better guess.\n",
        "        if (row['gps_height'] == 0) and (row['region'] != 'Mbeya' and row['region'] != 'Kagera'\n",
        "        and row['region'] != 'Dodoma' and row['region'] != 'Tabora'):\n",
        "            return (X[(X['region'] == row['region']) & (X['gps_height'] != 0)].gps_height.mean())\n",
        "        elif row['region'] == 'Mbeya':\n",
        "            return 1348 #obtained from https://en-us.topographic-map.com/maps/ttgd/Mbeya/\n",
        "        elif row['region'] == 'Kagera':\n",
        "            return 1281 #obtained from https://en-us.topographic-map.com/maps/egpg/Kagera/\n",
        "        elif row['region'] == 'Dodoma':\n",
        "            return 1143 #obtained from https://en-us.topographic-map.com/maps/e6vm/Dodoma/\n",
        "        elif row['region'] == 'Tabora':\n",
        "            return 1177 #obtained from https://elevation.maplogs.com/poi/tabora_region_tanzania.214008.html\n",
        "        elif row['gps_height'] < 0: #we should not have negative values here\n",
        "            return 0\n",
        "        else:\n",
        "            return row['gps_height']\n",
        "\n",
        "    #X['longitude'] = X.apply(impute_longitude_by_region, axis=1)\n",
        "    #X['latitude'] = X.apply(impute_latitude_by_region, axis=1)\n",
        "\n",
        "    X['gps_height'] = X.apply(impute_gpsheight, axis=1) #4 regions do not contain any gps height data. We will manually apply an average obtained for each region\n",
        "                                                        #we will obtain this from https://en-us.topographic-map.com/maps/tlwx/Tanzania/\n",
        "                                                        #we will go with the assumption that gps_height is in meters.\n",
        "                                                        #we conclude this because the average gps_height, with zeros removed, is 1021. The average elevation in Tanzania is 936.\n",
        "                                                        #We can infer based on the similarity in means, that the unit of measurement is meters.\n",
        "\n",
        "    avg_years_old = X['date_recorded'].dt.year.mean() - X['construction_year'].mean()\n",
        "    avg_years_old = int(avg_years_old)\n",
        "\n",
        "\n",
        "    X['years_old'] = X['date_recorded'].dt.year - X['construction_year'] #how many years since inspection\n",
        "    X['years_old'] = X['years_old'].fillna(value=avg_years_old) #fill nulls with average diff\n",
        "    X['years_old'] = [y if y >= 0 else 0 for y in X['years_old']]\n",
        "\n",
        "\n",
        "    #X['month_recorded'] = X['date_recorded'].dt.month\n",
        "\n",
        "    X = X.drop(['quantity_group', 'recorded_by', 'date_recorded', 'wpt_name',\n",
        "                'extraction_type_group', 'waterpoint_type_group',\n",
        "                'source_type', 'quality_group', 'payment_type',\n",
        "                'management_group', 'extraction_type_class',\n",
        "                'num_private', 'scheme_name', 'source_class',\n",
        "                'scheme_management', 'amount_tsh',\n",
        "                'population', 'subvillage'], axis=1) #drop recorded by as its a constant. drop quantity_group as its a duplicate column.\n",
        "\n",
        "    return X\n",
        "\n",
        "\n"
      ],
      "execution_count": 0,
      "outputs": []
    },
    {
      "cell_type": "code",
      "metadata": {
        "id": "p0S7NdTRFdE1",
        "colab_type": "code",
        "colab": {
          "base_uri": "https://localhost:8080/",
          "height": 35
        },
        "outputId": "0cb669ff-0e52-423c-d802-950803aed946"
      },
      "source": [
        "train = wrangle(train)\n",
        "validation = wrangle(validation)\n",
        "test = wrangle(test)\n",
        "\n",
        "train.shape"
      ],
      "execution_count": 9,
      "outputs": [
        {
          "output_type": "execute_result",
          "data": {
            "text/plain": [
              "(47520, 24)"
            ]
          },
          "metadata": {
            "tags": []
          },
          "execution_count": 9
        }
      ]
    },
    {
      "cell_type": "code",
      "metadata": {
        "id": "vITfpNUgFfGJ",
        "colab_type": "code",
        "colab": {}
      },
      "source": [
        "train_features = train.drop([target, 'id'], axis=1)\n",
        "numeric_features = train_features.select_dtypes(include='number').columns.tolist()\n",
        "\n",
        "categorical_features = train_features.select_dtypes(exclude='number').nunique().index.tolist()\n",
        "\n",
        "\n",
        "features = numeric_features + categorical_features"
      ],
      "execution_count": 0,
      "outputs": []
    },
    {
      "cell_type": "code",
      "metadata": {
        "id": "-t24z_E8FgmP",
        "colab_type": "code",
        "colab": {}
      },
      "source": [
        "y_train = train[target]\n",
        "X_train = train[features]\n",
        "y_validation = validation[target]\n",
        "X_validation = validation[features]\n",
        "X_test = test[features]"
      ],
      "execution_count": 0,
      "outputs": []
    },
    {
      "cell_type": "code",
      "metadata": {
        "id": "DY1yBSatFrws",
        "colab_type": "code",
        "colab": {}
      },
      "source": [
        "from xgboost import XGBClassifier\n",
        "from sklearn.impute import SimpleImputer\n",
        "import category_encoders as ce\n",
        "from sklearn.pipeline import Pipeline\n",
        "\n",
        "train_pipeline = Pipeline([#('encoder', ce.OneHotEncoder(use_cat_names=True)),\n",
        "                           ('encoder', ce.OrdinalEncoder()),\n",
        "                           ('imputer', SimpleImputer(strategy='median')),\n",
        "                           ('model', XGBClassifier(seed=1337, objective='binary:logistic', booster='gbtree',\n",
        "                                                   n_estimators=180, subsample=1, min_child_weight=1,\n",
        "                                                   min_child_leaf=2, max_depth=14, learning_rate=0.04,\n",
        "                                                   gamma=0, colsample_bytree=0.4))])\n",
        "\n",
        "train_pipeline.fit(X_train, y_train)\n",
        "y_pred = train_pipeline.predict(X_validation)\n",
        "train_pred = train_pipeline.predict(X_train)\n",
        "test_pred = train_pipeline.predict(X_test)"
      ],
      "execution_count": 0,
      "outputs": []
    },
    {
      "cell_type": "code",
      "metadata": {
        "id": "H4DeyFPAF0Uj",
        "colab_type": "code",
        "colab": {
          "base_uri": "https://localhost:8080/",
          "height": 35
        },
        "outputId": "824af6ea-f53e-4c21-dd78-5dab5809b1c1"
      },
      "source": [
        "print(\"Validation accuracy score:\", accuracy_score(y_validation, y_pred), \"                    Train accuracy is: \", accuracy_score(y_train, train_pred))"
      ],
      "execution_count": 13,
      "outputs": [
        {
          "output_type": "stream",
          "text": [
            "Validation accuracy score: 0.8126262626262626                     Train accuracy is:  0.9386574074074074\n"
          ],
          "name": "stdout"
        }
      ]
    },
    {
      "cell_type": "code",
      "metadata": {
        "id": "0CLSepGHF5ZS",
        "colab_type": "code",
        "colab": {
          "base_uri": "https://localhost:8080/",
          "height": 1000
        },
        "outputId": "352e1bdc-62bf-4f60-fa19-e6c5f002627c"
      },
      "source": [
        "import matplotlib.pyplot as plt\n",
        "\n",
        "model = train_pipeline.named_steps.model\n",
        "encoder = train_pipeline.named_steps.encoder\n",
        "\n",
        "encoded_columns = encoder.transform(X_validation).columns\n",
        "importances = pd.Series(model.feature_importances_, encoded_columns)\n",
        "plt.figure(figsize=(10,30))\n",
        "importances.sort_values().plot.barh(color='grey');"
      ],
      "execution_count": 15,
      "outputs": [
        {
          "output_type": "display_data",
          "data": {
            "image/png": "[encoded data removed]",
            "text/plain": [
              "<Figure size 720x2160 with 1 Axes>"
            ]
          },
          "metadata": {
            "tags": [],
            "needs_background": "light"
          }
        }
      ]
    },
    {
      "cell_type": "code",
      "metadata": {
        "id": "gGINjsVTF71v",
        "colab_type": "code",
        "colab": {
          "base_uri": "https://localhost:8080/",
          "height": 385
        },
        "outputId": "257cf7bf-b9d4-45ec-9d81-e1940772e809"
      },
      "source": [
        "from sklearn.metrics import plot_confusion_matrix\n",
        "\n",
        "plot_confusion_matrix(train_pipeline, X_validation, y_validation, values_format='.0f', xticks_rotation='vertical');"
      ],
      "execution_count": 20,
      "outputs": [
        {
          "output_type": "display_data",
          "data": {
            "image/png": "[encoded data removed]",
            "text/plain": [
              "<Figure size 432x288 with 2 Axes>"
            ]
          },
          "metadata": {
            "tags": [],
            "needs_background": "light"
          }
        }
      ]
    },
    {
      "cell_type": "code",
      "metadata": {
        "id": "hC-pdb6QGPrA",
        "colab_type": "code",
        "colab": {}
      },
      "source": [
        ""
      ],
      "execution_count": 0,
      "outputs": []
    }
  ]
}