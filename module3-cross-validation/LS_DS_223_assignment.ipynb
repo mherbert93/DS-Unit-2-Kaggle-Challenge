{
  "nbformat": 4,
  "nbformat_minor": 0,
  "metadata": {
    "kernelspec": {
      "display_name": "Python 3",
      "language": "python",
      "name": "python3"
    },
    "language_info": {
      "codemirror_mode": {
        "name": "ipython",
        "version": 3
      },
      "file_extension": ".py",
      "mimetype": "text/x-python",
      "name": "python",
      "nbconvert_exporter": "python",
      "pygments_lexer": "ipython3",
      "version": "3.7.6"
    },
    "colab": {
      "name": "LS_DS_223_assignment.ipynb",
      "provenance": [],
      "collapsed_sections": [],
      "include_colab_link": true
    }
  },
  "cells": [
    {
      "cell_type": "markdown",
      "metadata": {
        "id": "view-in-github",
        "colab_type": "text"
      },
      "source": [
        "<a href=\"https://colab.research.google.com/github/mherbert93/DS-Unit-2-Kaggle-Challenge/blob/master/module3-cross-validation/LS_DS_223_assignment.ipynb\" target=\"_parent\"><img src=\"https://colab.research.google.com/assets/colab-badge.svg\" alt=\"Open In Colab\"/></a>"
      ]
    },
    {
      "cell_type": "markdown",
      "metadata": {
        "id": "h9rnk_2SUpKX",
        "colab_type": "text"
      },
      "source": [
        "Lambda School Data Science\n",
        "\n",
        "*Unit 2, Sprint 2, Module 3*\n",
        "\n",
        "---"
      ]
    },
    {
      "cell_type": "markdown",
      "metadata": {
        "id": "H2nOhksbUpKa",
        "colab_type": "text"
      },
      "source": [
        "# Cross-Validation\n",
        "\n",
        "\n",
        "## Assignment\n",
        "- [ ] [Review requirements for your portfolio project](https://lambdaschool.github.io/ds/unit2), then submit your dataset.\n",
        "- [x] Continue to participate in our Kaggle challenge. \n",
        "- [x] Use scikit-learn for hyperparameter optimization with RandomizedSearchCV.\n",
        "- [x] Submit your predictions to our Kaggle competition. (Go to our Kaggle InClass competition webpage. Use the blue **Submit Predictions** button to upload your CSV file. Or you can use the Kaggle API to submit your predictions.)\n",
        "- [x] Commit your notebook to your fork of the GitHub repo.\n",
        "\n",
        "\n",
        "You won't be able to just copy from the lesson notebook to this assignment.\n",
        "\n",
        "- Because the lesson was ***regression***, but the assignment is ***classification.***\n",
        "- Because the lesson used [TargetEncoder](https://contrib.scikit-learn.org/categorical-encoding/targetencoder.html), which doesn't work as-is for _multi-class_ classification.\n",
        "\n",
        "So you will have to adapt the example, which is good real-world practice.\n",
        "\n",
        "1. Use a model for classification, such as [RandomForestClassifier](https://scikit-learn.org/stable/modules/generated/sklearn.ensemble.RandomForestClassifier.html)\n",
        "2. Use hyperparameters that match the classifier, such as `randomforestclassifier__ ...`\n",
        "3. Use a metric for classification, such as [`scoring='accuracy'`](https://scikit-learn.org/stable/modules/model_evaluation.html#common-cases-predefined-values)\n",
        "4. If you’re doing a multi-class classification problem — such as whether a waterpump is functional, functional needs repair, or nonfunctional — then use a categorical encoding that works for multi-class classification, such as [OrdinalEncoder](https://contrib.scikit-learn.org/categorical-encoding/ordinal.html) (not [TargetEncoder](https://contrib.scikit-learn.org/categorical-encoding/targetencoder.html))\n",
        "\n",
        "\n",
        "\n",
        "## Stretch Goals\n",
        "\n",
        "### Reading\n",
        "- Jake VanderPlas, [Python Data Science Handbook, Chapter 5.3](https://jakevdp.github.io/PythonDataScienceHandbook/05.03-hyperparameters-and-model-validation.html), Hyperparameters and Model Validation\n",
        "- Jake VanderPlas, [Statistics for Hackers](https://speakerdeck.com/jakevdp/statistics-for-hackers?slide=107)\n",
        "- Ron Zacharski, [A Programmer's Guide to Data Mining, Chapter 5](http://guidetodatamining.com/chapter5/), 10-fold cross validation\n",
        "- Sebastian Raschka, [A Basic Pipeline and Grid Search Setup](https://github.com/rasbt/python-machine-learning-book/blob/master/code/bonus/svm_iris_pipeline_and_gridsearch.ipynb)\n",
        "- Peter Worcester, [A Comparison of Grid Search and Randomized Search Using Scikit Learn](https://blog.usejournal.com/a-comparison-of-grid-search-and-randomized-search-using-scikit-learn-29823179bc85)\n",
        "\n",
        "### Doing\n",
        "- Add your own stretch goals!\n",
        "- Try other [categorical encodings](https://contrib.scikit-learn.org/categorical-encoding/). See the previous assignment notebook for details.\n",
        "- In additon to `RandomizedSearchCV`, scikit-learn has [`GridSearchCV`](https://scikit-learn.org/stable/modules/generated/sklearn.model_selection.GridSearchCV.html). Another library called scikit-optimize has [`BayesSearchCV`](https://scikit-optimize.github.io/notebooks/sklearn-gridsearchcv-replacement.html). Experiment with these alternatives.\n",
        "- _[Introduction to Machine Learning with Python](http://shop.oreilly.com/product/0636920030515.do)_ discusses options for \"Grid-Searching Which Model To Use\" in Chapter 6:\n",
        "\n",
        "> You can even go further in combining GridSearchCV and Pipeline: it is also possible to search over the actual steps being performed in the pipeline (say whether to use StandardScaler or MinMaxScaler). This leads to an even bigger search space and should be considered carefully. Trying all possible solutions is usually not a viable machine learning strategy. However, here is an example comparing a RandomForestClassifier and an SVC ...\n",
        "\n",
        "The example is shown in [the accompanying notebook](https://github.com/amueller/introduction_to_ml_with_python/blob/master/06-algorithm-chains-and-pipelines.ipynb), code cells 35-37. Could you apply this concept to your own pipelines?\n"
      ]
    },
    {
      "cell_type": "markdown",
      "metadata": {
        "id": "tUCtKkHEUpKc",
        "colab_type": "text"
      },
      "source": [
        "### BONUS: Stacking!\n",
        "\n",
        "Here's some code you can use to \"stack\" multiple submissions, which is another form of ensembling:\n",
        "\n",
        "```python\n",
        "import pandas as pd\n",
        "\n",
        "# Filenames of your submissions you want to ensemble\n",
        "files = ['submission-01.csv', 'submission-02.csv', 'submission-03.csv']\n",
        "\n",
        "target = 'status_group'\n",
        "submissions = (pd.read_csv(file)[[target]] for file in files)\n",
        "ensemble = pd.concat(submissions, axis='columns')\n",
        "majority_vote = ensemble.mode(axis='columns')[0]\n",
        "\n",
        "sample_submission = pd.read_csv('sample_submission.csv')\n",
        "submission = sample_submission.copy()\n",
        "submission[target] = majority_vote\n",
        "submission.to_csv('my-ultimate-ensemble-submission.csv', index=False)\n",
        "```"
      ]
    },
    {
      "cell_type": "code",
      "metadata": {
        "id": "BmwPnhyJUpKe",
        "colab_type": "code",
        "colab": {}
      },
      "source": [
        "%%capture\n",
        "import sys\n",
        "\n",
        "# If you're on Colab:\n",
        "if 'google.colab' in sys.modules:\n",
        "    DATA_PATH = 'https://raw.githubusercontent.com/LambdaSchool/DS-Unit-2-Kaggle-Challenge/master/data/'\n",
        "    !pip install category_encoders==2.*\n",
        "\n",
        "# If you're working locally:\n",
        "else:\n",
        "    DATA_PATH = '../data/'"
      ],
      "execution_count": 0,
      "outputs": []
    },
    {
      "cell_type": "code",
      "metadata": {
        "id": "f2VpyrFGUpKq",
        "colab_type": "code",
        "outputId": "e1ab4d1f-8211-45c5-9c3b-a8fbbc764e68",
        "colab": {
          "base_uri": "https://localhost:8080/",
          "height": 146
        }
      },
      "source": [
        "import pandas as pd\n",
        "!pip install scikit-optimize\n",
        "\n",
        "# Merge train_features.csv & train_labels.csv\n",
        "train = pd.merge(pd.read_csv(DATA_PATH+'waterpumps/train_features.csv'), \n",
        "                 pd.read_csv(DATA_PATH+'waterpumps/train_labels.csv'))\n",
        "\n",
        "# Read test_features.csv & sample_submission.csv\n",
        "test = pd.read_csv(DATA_PATH+'waterpumps/test_features.csv')\n",
        "sample_submission = pd.read_csv(DATA_PATH+'waterpumps/sample_submission.csv')"
      ],
      "execution_count": 116,
      "outputs": [
        {
          "output_type": "stream",
          "text": [
            "Requirement already satisfied: scikit-optimize in /usr/local/lib/python3.6/dist-packages (0.7.4)\n",
            "Requirement already satisfied: scikit-learn>=0.19.1 in /usr/local/lib/python3.6/dist-packages (from scikit-optimize) (0.22.2.post1)\n",
            "Requirement already satisfied: numpy>=1.11.0 in /usr/local/lib/python3.6/dist-packages (from scikit-optimize) (1.18.2)\n",
            "Requirement already satisfied: scipy>=0.18.0 in /usr/local/lib/python3.6/dist-packages (from scikit-optimize) (1.4.1)\n",
            "Requirement already satisfied: pyaml>=16.9 in /usr/local/lib/python3.6/dist-packages (from scikit-optimize) (20.4.0)\n",
            "Requirement already satisfied: joblib>=0.11 in /usr/local/lib/python3.6/dist-packages (from scikit-optimize) (0.14.1)\n",
            "Requirement already satisfied: PyYAML in /usr/local/lib/python3.6/dist-packages (from pyaml>=16.9->scikit-optimize) (3.13)\n"
          ],
          "name": "stdout"
        }
      ]
    },
    {
      "cell_type": "code",
      "metadata": {
        "id": "K33UMgaIUpKw",
        "colab_type": "code",
        "outputId": "a202f45b-1a8f-4691-b16d-52f88aea7ed6",
        "colab": {
          "base_uri": "https://localhost:8080/",
          "height": 35
        }
      },
      "source": [
        "from sklearn.model_selection import train_test_split\n",
        "\n",
        "train, validation = train_test_split(train, train_size=0.80, test_size=0.20, stratify=train['status_group'], random_state=1337)\n",
        "\n",
        "train.shape, validation.shape, test.shape\n"
      ],
      "execution_count": 117,
      "outputs": [
        {
          "output_type": "execute_result",
          "data": {
            "text/plain": [
              "((47520, 41), (11880, 41), (14358, 40))"
            ]
          },
          "metadata": {
            "tags": []
          },
          "execution_count": 117
        }
      ]
    },
    {
      "cell_type": "code",
      "metadata": {
        "id": "4d0yESZvtiD3",
        "colab_type": "code",
        "colab": {}
      },
      "source": [
        "\n",
        "target = 'status_group'\n",
        "\n",
        "y_train = train[target]\n",
        "y_validation = validation[target]"
      ],
      "execution_count": 0,
      "outputs": []
    },
    {
      "cell_type": "code",
      "metadata": {
        "id": "mPNoHtTCtkXY",
        "colab_type": "code",
        "outputId": "3dfc77b7-7352-42df-e89a-f52b888bb7ed",
        "colab": {
          "base_uri": "https://localhost:8080/",
          "height": 35
        }
      },
      "source": [
        "from sklearn.metrics import accuracy_score\n",
        "\n",
        "majority_class = y_train.mode()[0]\n",
        "y_pred = [majority_class] * len(y_train)\n",
        "\n",
        "print(\"Train dataset baseline accuracy is: \", accuracy_score(y_train, y_pred))"
      ],
      "execution_count": 119,
      "outputs": [
        {
          "output_type": "stream",
          "text": [
            "Train dataset baseline accuracy is:  0.5430765993265994\n"
          ],
          "name": "stdout"
        }
      ]
    },
    {
      "cell_type": "code",
      "metadata": {
        "id": "HrAhhqRqtm60",
        "colab_type": "code",
        "outputId": "914834ad-1e80-4003-8298-dff69a089a63",
        "colab": {
          "base_uri": "https://localhost:8080/",
          "height": 35
        }
      },
      "source": [
        "y_pred = [majority_class] * len(y_validation)\n",
        "\n",
        "print(\"Validation dataset baseline accuracy is: \", accuracy_score(y_validation, y_pred))\n"
      ],
      "execution_count": 120,
      "outputs": [
        {
          "output_type": "stream",
          "text": [
            "Validation dataset baseline accuracy is:  0.5430976430976431\n"
          ],
          "name": "stdout"
        }
      ]
    },
    {
      "cell_type": "code",
      "metadata": {
        "id": "nkPupLCatpMD",
        "colab_type": "code",
        "colab": {}
      },
      "source": [
        "def wrangle(X): #lets clean our data!\n",
        "    import numpy as np\n",
        "    from sklearn.cluster import DBSCAN\n",
        "\n",
        "    X = X.copy()\n",
        "\n",
        "    X['region_code'] = X['region_code'].astype('str') #make categorical \n",
        "    X['district_code'] = X['district_code'].astype('str') #make categorical\n",
        "\n",
        "    X['date_recorded'] = pd.to_datetime(X['date_recorded'], infer_datetime_format=True)\n",
        "\n",
        "    zero_columns = ['population', 'construction_year'] #columns that contain high amount of 0 and should not\n",
        "    X['latitude'] = X['latitude'].replace(-2e-08, 0)\n",
        "\n",
        "    for col in zero_columns:\n",
        "        X[col] = X[col].replace(0, np.nan) #set 0 values to null\n",
        "\n",
        "    def impute_longitude_by_region(row): #bin null longitude into its respective region. Gives us a slighter better guess.\n",
        "        if row['longitude'] == 0:\n",
        "            return (X[(X['region'] == row['region']) & (X['longitude'] != 0)].longitude.mean())\n",
        "        else:\n",
        "            return row['longitude']\n",
        "\n",
        "\n",
        "    def impute_latitude_by_region(row): #bin null latitude into its respective region. Gives us a slighter better guess.\n",
        "        if row['latitude'] == 0:\n",
        "            return (X[(X['region'] == row['region']) & (X['latitude'] != 0)].latitude.mean())\n",
        "        else:\n",
        "            return row['latitude']\n",
        "\n",
        "    def impute_gpsheight(row): #bin null gps height into its respective region. Gives us a slighter better guess.\n",
        "        if (row['gps_height'] == 0) and (row['region'] != 'Mbeya' and row['region'] != 'Kagera'\n",
        "        and row['region'] != 'Dodoma' and row['region'] != 'Tabora'):\n",
        "            return (X[(X['region'] == row['region']) & (X['gps_height'] != 0)].gps_height.mean())\n",
        "        elif row['region'] == 'Mbeya':\n",
        "            return 1348 #obtained from https://en-us.topographic-map.com/maps/ttgd/Mbeya/\n",
        "        elif row['region'] == 'Kagera':\n",
        "            return 1281 #obtained from https://en-us.topographic-map.com/maps/egpg/Kagera/\n",
        "        elif row['region'] == 'Dodoma':\n",
        "            return 1143 #obtained from https://en-us.topographic-map.com/maps/e6vm/Dodoma/\n",
        "        elif row['region'] == 'Tabora':\n",
        "            return 1177 #obtained from https://elevation.maplogs.com/poi/tabora_region_tanzania.214008.html\n",
        "        elif row['gps_height'] < 0: #we should not have negative values here\n",
        "            return 0\n",
        "        else:\n",
        "            return row['gps_height']\n",
        "\n",
        "    #X['longitude'] = X.apply(impute_longitude_by_region, axis=1)\n",
        "    #X['latitude'] = X.apply(impute_latitude_by_region, axis=1)\n",
        "\n",
        "    X['gps_height'] = X.apply(impute_gpsheight, axis=1) #4 regions do not contain any gps height data. We will manually apply an average obtained for each region\n",
        "                                                        #we will obtain this from https://en-us.topographic-map.com/maps/tlwx/Tanzania/\n",
        "                                                        #we will go with the assumption that gps_height is in meters.\n",
        "                                                        #we conclude this because the average gps_height, with zeros removed, is 1021. The average elevation in Tanzania is 936.\n",
        "                                                        #We can infer based on the similarity in means, that the unit of measurement is meters.\n",
        "\n",
        "    avg_years_old = X['date_recorded'].dt.year.mean() - X['construction_year'].mean()\n",
        "    avg_years_old = int(avg_years_old)\n",
        "    \n",
        "\n",
        "    X['years_old'] = X['date_recorded'].dt.year - X['construction_year'] #how many years since inspection\n",
        "    X['years_old'] = X['years_old'].fillna(value=avg_years_old) #fill nulls with average diff\n",
        "    X['years_old'] = [y if y >= 0 else 0 for y in X['years_old']]\n",
        "\n",
        "\n",
        "    #X['month_recorded'] = X['date_recorded'].dt.month\n",
        "\n",
        "    X = X.drop(['quantity_group', 'recorded_by', 'date_recorded', 'wpt_name',\n",
        "                'extraction_type_group', 'waterpoint_type_group',\n",
        "                'source_type', 'quality_group', 'payment_type',\n",
        "                'management_group', 'extraction_type_class',\n",
        "                'num_private', 'scheme_name', 'source_class',\n",
        "                'scheme_management', 'amount_tsh',\n",
        "                'population', 'subvillage', 'latitude', 'longitude'], axis=1) #drop recorded by as its a constant. drop quantity_group as its a duplicate column.\n",
        "\n",
        "    return X\n",
        "\n"
      ],
      "execution_count": 0,
      "outputs": []
    },
    {
      "cell_type": "code",
      "metadata": {
        "id": "8PhjThOutwkw",
        "colab_type": "code",
        "outputId": "02370de2-ef8e-417f-bc09-35d1be1bbfe2",
        "colab": {
          "base_uri": "https://localhost:8080/",
          "height": 35
        }
      },
      "source": [
        "train = wrangle(train)\n",
        "validation = wrangle(validation)\n",
        "test = wrangle(test)\n",
        "\n",
        "train.shape"
      ],
      "execution_count": 122,
      "outputs": [
        {
          "output_type": "execute_result",
          "data": {
            "text/plain": [
              "(47520, 22)"
            ]
          },
          "metadata": {
            "tags": []
          },
          "execution_count": 122
        }
      ]
    },
    {
      "cell_type": "code",
      "metadata": {
        "id": "ZqfnS1U3Ikef",
        "colab_type": "code",
        "colab": {
          "base_uri": "https://localhost:8080/",
          "height": 552
        },
        "outputId": "c886ed38-0baa-4288-b30c-839ab563cb45"
      },
      "source": [
        "import seaborn as sns\n",
        "import matplotlib.pyplot as plt\n",
        "\n",
        "plt.figure(figsize=(20,9))\n",
        "sns.barplot(\n",
        "    x=train['years_old'],\n",
        "    y=train['status_group']=='functional',\n",
        "    color='grey'\n",
        ");"
      ],
      "execution_count": 123,
      "outputs": [
        {
          "output_type": "display_data",
          "data": {
            "image/png": "[encoded data removed]",
            "text/plain": [
              "<Figure size 1440x648 with 1 Axes>"
            ]
          },
          "metadata": {
            "tags": [],
            "needs_background": "light"
          }
        }
      ]
    },
    {
      "cell_type": "code",
      "metadata": {
        "id": "d66_caWUt0Lb",
        "colab_type": "code",
        "colab": {}
      },
      "source": [
        "train_features = train.drop([target, 'id'], axis=1)\n",
        "numeric_features = train_features.select_dtypes(include='number').columns.tolist()\n",
        "\n",
        "categorical_features = train_features.select_dtypes(exclude='number').nunique().index.tolist()\n",
        "\n",
        "\n",
        "features = numeric_features + categorical_features"
      ],
      "execution_count": 0,
      "outputs": []
    },
    {
      "cell_type": "code",
      "metadata": {
        "id": "XZRFHTzDt1Vg",
        "colab_type": "code",
        "colab": {}
      },
      "source": [
        "y_train = train[target]\n",
        "X_train = train[features]\n",
        "y_validation = validation[target]\n",
        "X_validation = validation[features]\n",
        "X_test = test[features]"
      ],
      "execution_count": 0,
      "outputs": []
    },
    {
      "cell_type": "code",
      "metadata": {
        "id": "paJ0YehouDta",
        "colab_type": "code",
        "colab": {
          "base_uri": "https://localhost:8080/",
          "height": 164
        },
        "outputId": "8ad4b884-51ca-455c-f78a-125e74bd3bc5"
      },
      "source": [
        "from xgboost import XGBClassifier\n",
        "from sklearn.model_selection import GridSearchCV, RandomizedSearchCV, StratifiedKFold\n",
        "from sklearn.ensemble import RandomForestClassifier\n",
        "from skopt import BayesSearchCV\n",
        "from scipy.stats import randint, uniform\n",
        "from sklearn.impute import SimpleImputer\n",
        "import category_encoders as ce\n",
        "from sklearn.pipeline import Pipeline\n",
        "from scipy.stats import randint\n",
        "\n",
        "param_distributions = {\n",
        "    #'imputer__strategy': ['mean', 'median']\n",
        "    'model__n_estimators': [200, 250, 300, 350],\n",
        "    'model__max_depth': [9, 11, 13, 15, 17],\n",
        "    'model__max_features': [2, 4, 6, 8, 10, 12],\n",
        "    'model__min_samples_leaf': [1, 2, 3]\n",
        "}\n",
        "\n",
        "\n",
        "train_pipeline = Pipeline([('encoder', ce.OrdinalEncoder()),\n",
        "                           ('imputer', SimpleImputer(strategy='median')),\n",
        "                           ('model', RandomForestClassifier(random_state=1337))])\n",
        "\n",
        "search = RandomizedSearchCV(\n",
        "    train_pipeline,\n",
        "    param_distributions=param_distributions,\n",
        "    n_iter=10,\n",
        "    cv=3,\n",
        "    scoring='accuracy',\n",
        "    verbose=10,\n",
        "    random_state=1337,\n",
        "    n_jobs=2\n",
        ")\n",
        "\n",
        "# train_pipeline.fit(X_train, y_train)\n",
        "# y_pred = train_pipeline.predict(X_validation)\n",
        "# train_pred = train_pipeline.predict(X_train)\n",
        "# test_pred = train_pipeline.predict(X_test)\n",
        "\n",
        "search.fit(X_train, y_train)\n",
        "y_pred = search.predict(X_validation)\n",
        "train_pred = search.predict(X_train)\n",
        "test_pred = search.predict(X_test)"
      ],
      "execution_count": 126,
      "outputs": [
        {
          "output_type": "stream",
          "text": [
            "Fitting 3 folds for each of 10 candidates, totalling 30 fits\n"
          ],
          "name": "stdout"
        },
        {
          "output_type": "stream",
          "text": [
            "[Parallel(n_jobs=2)]: Using backend LokyBackend with 2 concurrent workers.\n",
            "[Parallel(n_jobs=2)]: Done   1 tasks      | elapsed:   57.6s\n",
            "[Parallel(n_jobs=2)]: Done   4 tasks      | elapsed:  1.8min\n",
            "[Parallel(n_jobs=2)]: Done   9 tasks      | elapsed:  3.0min\n",
            "[Parallel(n_jobs=2)]: Done  14 tasks      | elapsed:  3.8min\n",
            "[Parallel(n_jobs=2)]: Done  21 tasks      | elapsed:  4.5min\n",
            "[Parallel(n_jobs=2)]: Done  30 out of  30 | elapsed:  6.6min finished\n"
          ],
          "name": "stderr"
        }
      ]
    },
    {
      "cell_type": "code",
      "metadata": {
        "id": "vo-42JEdyWtF",
        "colab_type": "code",
        "outputId": "6f6afabc-b693-44d0-8f76-68c1cbe6463b",
        "colab": {
          "base_uri": "https://localhost:8080/",
          "height": 127
        }
      },
      "source": [
        "print(search.best_params_, '\\n')\n",
        "print(search.best_score_, '\\n')\n",
        "print(\"Validation accuracy score:\", accuracy_score(y_validation, y_pred), \"                    Train accuracy is: \", accuracy_score(y_train, train_pred), '\\n')"
      ],
      "execution_count": 127,
      "outputs": [
        {
          "output_type": "stream",
          "text": [
            "{'model__n_estimators': 300, 'model__min_samples_leaf': 2, 'model__max_features': 8, 'model__max_depth': 15} \n",
            "\n",
            "0.7915404040404042 \n",
            "\n",
            "Validation accuracy score: 0.7935185185185185                     Train accuracy is:  0.8480429292929293 \n",
            "\n"
          ],
          "name": "stdout"
        }
      ]
    },
    {
      "cell_type": "markdown",
      "metadata": {
        "id": "CSNjPUYKTKda",
        "colab_type": "text"
      },
      "source": [
        "# These predictions are not current, am using gradiant boosting locally."
      ]
    },
    {
      "cell_type": "code",
      "metadata": {
        "id": "bUoyGw7S7GKH",
        "colab_type": "code",
        "outputId": "d1495034-d561-4f8f-9f07-83d7ab143edb",
        "colab": {
          "base_uri": "https://localhost:8080/",
          "height": 1000
        }
      },
      "source": [
        "import matplotlib.pyplot as plt\n",
        "\n",
        "\n",
        "model = search.best_estimator_.named_steps.model\n",
        "encoder = search.best_estimator_.named_steps.encoder\n",
        "\n",
        "# model = train_pipeline.named_steps.model\n",
        "# encoder = train_pipeline.named_steps.encoder\n",
        "\n",
        "\n",
        "encoded_columns = encoder.transform(X_validation).columns\n",
        "importances = pd.Series(model.feature_importances_, encoded_columns)\n",
        "plt.figure(figsize=(10,30))\n",
        "importances.sort_values().plot.barh(color='grey');"
      ],
      "execution_count": 128,
      "outputs": [
        {
          "output_type": "display_data",
          "data": {
            "image/png": "[encoded data removed]",
            "text/plain": [
              "<Figure size 720x2160 with 1 Axes>"
            ]
          },
          "metadata": {
            "tags": [],
            "needs_background": "light"
          }
        }
      ]
    },
    {
      "cell_type": "code",
      "metadata": {
        "id": "d_0t2nJlyiFs",
        "colab_type": "code",
        "colab": {}
      },
      "source": [
        "submission = sample_submission.copy()\n",
        "submission['status_group'] = test_pred\n",
        "submission.to_csv('martin-herbert_randomforest.csv', index=False)"
      ],
      "execution_count": 0,
      "outputs": []
    }
  ]
}