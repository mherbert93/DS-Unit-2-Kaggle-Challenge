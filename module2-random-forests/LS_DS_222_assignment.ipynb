{
  "nbformat": 4,
  "nbformat_minor": 0,
  "metadata": {
    "kernelspec": {
      "display_name": "Python 3",
      "language": "python",
      "name": "python3"
    },
    "language_info": {
      "codemirror_mode": {
        "name": "ipython",
        "version": 3
      },
      "file_extension": ".py",
      "mimetype": "text/x-python",
      "name": "python",
      "nbconvert_exporter": "python",
      "pygments_lexer": "ipython3",
      "version": "3.7.3"
    },
    "colab": {
      "name": "LS_DS_222_assignment.ipynb",
      "provenance": [],
      "collapsed_sections": [],
      "include_colab_link": true
    }
  },
  "cells": [
    {
      "cell_type": "markdown",
      "metadata": {
        "id": "view-in-github",
        "colab_type": "text"
      },
      "source": [
        "<a href=\"https://colab.research.google.com/github/mherbert93/DS-Unit-2-Kaggle-Challenge/blob/master/module2-random-forests/LS_DS_222_assignment.ipynb\" target=\"_parent\"><img src=\"https://colab.research.google.com/assets/colab-badge.svg\" alt=\"Open In Colab\"/></a>"
      ]
    },
    {
      "cell_type": "markdown",
      "metadata": {
        "id": "ikWiy6aHuoPR",
        "colab_type": "text"
      },
      "source": [
        "Lambda School Data Science\n",
        "\n",
        "*Unit 2, Sprint 2, Module 2*\n",
        "\n",
        "---"
      ]
    },
    {
      "cell_type": "markdown",
      "metadata": {
        "colab_type": "text",
        "id": "7IXUfiQ2UKj6"
      },
      "source": [
        "# Random Forests\n",
        "\n",
        "## Assignment\n",
        "- [x] Read [“Adopting a Hypothesis-Driven Workflow”](https://outline.com/5S5tsB), a blog post by a Lambda DS student about the Tanzania Waterpumps challenge.\n",
        "- [x] Continue to participate in our Kaggle challenge.\n",
        "- [x] Define a function to wrangle train, validate, and test sets in the same way. Clean outliers and engineer features.\n",
        "- [x] Try Ordinal Encoding.\n",
        "- [x] Try a Random Forest Classifier.\n",
        "- [x] Submit your predictions to our Kaggle competition. (Go to our Kaggle InClass competition webpage. Use the blue **Submit Predictions** button to upload your CSV file. Or you can use the Kaggle API to submit your predictions.)\n",
        "- [x] Commit your notebook to your fork of the GitHub repo.\n",
        "\n",
        "## Stretch Goals\n",
        "\n",
        "### Doing\n",
        "- [ ] Add your own stretch goal(s) !\n",
        "- [x] Do more exploratory data analysis, data cleaning, feature engineering, and feature selection.\n",
        "- [ ] Try other [categorical encodings](https://contrib.scikit-learn.org/categorical-encoding/).\n",
        "- [x] Get and plot your feature importances.\n",
        "- [ ] Make visualizations and share on Slack.\n",
        "\n",
        "### Reading\n",
        "\n",
        "Top recommendations in _**bold italic:**_\n",
        "\n",
        "#### Decision Trees\n",
        "- A Visual Introduction to Machine Learning, [Part 1: A Decision Tree](http://www.r2d3.us/visual-intro-to-machine-learning-part-1/),  and _**[Part 2: Bias and Variance](http://www.r2d3.us/visual-intro-to-machine-learning-part-2/)**_\n",
        "- [Decision Trees: Advantages & Disadvantages](https://christophm.github.io/interpretable-ml-book/tree.html#advantages-2)\n",
        "- [How a Russian mathematician constructed a decision tree — by hand — to solve a medical problem](http://fastml.com/how-a-russian-mathematician-constructed-a-decision-tree-by-hand-to-solve-a-medical-problem/)\n",
        "- [How decision trees work](https://brohrer.github.io/how_decision_trees_work.html)\n",
        "- [Let’s Write a Decision Tree Classifier from Scratch](https://www.youtube.com/watch?v=LDRbO9a6XPU)\n",
        "\n",
        "#### Random Forests\n",
        "- [_An Introduction to Statistical Learning_](http://www-bcf.usc.edu/~gareth/ISL/), Chapter 8: Tree-Based Methods\n",
        "- [Coloring with Random Forests](http://structuringtheunstructured.blogspot.com/2017/11/coloring-with-random-forests.html)\n",
        "- _**[Random Forests for Complete Beginners: The definitive guide to Random Forests and Decision Trees](https://victorzhou.com/blog/intro-to-random-forests/)**_\n",
        "\n",
        "#### Categorical encoding for trees\n",
        "- [Are categorical variables getting lost in your random forests?](https://roamanalytics.com/2016/10/28/are-categorical-variables-getting-lost-in-your-random-forests/)\n",
        "- [Beyond One-Hot: An Exploration of Categorical Variables](http://www.willmcginnis.com/2015/11/29/beyond-one-hot-an-exploration-of-categorical-variables/)\n",
        "- _**[Categorical Features and Encoding in Decision Trees](https://medium.com/data-design/visiting-categorical-features-and-encoding-in-decision-trees-53400fa65931)**_\n",
        "- _**[Coursera — How to Win a Data Science Competition: Learn from Top Kagglers — Concept of mean encoding](https://www.coursera.org/lecture/competitive-data-science/concept-of-mean-encoding-b5Gxv)**_\n",
        "- [Mean (likelihood) encodings: a comprehensive study](https://www.kaggle.com/vprokopev/mean-likelihood-encodings-a-comprehensive-study)\n",
        "- [The Mechanics of Machine Learning, Chapter 6: Categorically Speaking](https://mlbook.explained.ai/catvars.html)\n",
        "\n",
        "#### Imposter Syndrome\n",
        "- [Effort Shock and Reward Shock (How The Karate Kid Ruined The Modern World)](http://www.tempobook.com/2014/07/09/effort-shock-and-reward-shock/)\n",
        "- [How to manage impostor syndrome in data science](https://towardsdatascience.com/how-to-manage-impostor-syndrome-in-data-science-ad814809f068)\n",
        "- [\"I am not a real data scientist\"](https://brohrer.github.io/imposter_syndrome.html)\n",
        "- _**[Imposter Syndrome in Data Science](https://caitlinhudon.com/2018/01/19/imposter-syndrome-in-data-science/)**_\n",
        "\n",
        "\n",
        "### More Categorical Encodings\n",
        "\n",
        "**1.** The article **[Categorical Features and Encoding in Decision Trees](https://medium.com/data-design/visiting-categorical-features-and-encoding-in-decision-trees-53400fa65931)** mentions 4 encodings:\n",
        "\n",
        "- **\"Categorical Encoding\":** This means using the raw categorical values as-is, not encoded. Scikit-learn doesn't support this, but some tree algorithm implementations do. For example, [Catboost](https://catboost.ai/), or R's [rpart](https://cran.r-project.org/web/packages/rpart/index.html) package.\n",
        "- **Numeric Encoding:** Synonymous with Label Encoding, or \"Ordinal\" Encoding with random order. We can use [category_encoders.OrdinalEncoder](https://contrib.scikit-learn.org/categorical-encoding/ordinal.html).\n",
        "- **One-Hot Encoding:** We can use [category_encoders.OneHotEncoder](http://contrib.scikit-learn.org/categorical-encoding/onehot.html).\n",
        "- **Binary Encoding:** We can use [category_encoders.BinaryEncoder](http://contrib.scikit-learn.org/categorical-encoding/binary.html).\n",
        "\n",
        "\n",
        "**2.** The short video \n",
        "**[Coursera — How to Win a Data Science Competition: Learn from Top Kagglers — Concept of mean encoding](https://www.coursera.org/lecture/competitive-data-science/concept-of-mean-encoding-b5Gxv)** introduces an interesting idea: use both X _and_ y to encode categoricals.\n",
        "\n",
        "Category Encoders has multiple implementations of this general concept:\n",
        "\n",
        "- [CatBoost Encoder](http://contrib.scikit-learn.org/categorical-encoding/catboost.html)\n",
        "- [James-Stein Encoder](http://contrib.scikit-learn.org/categorical-encoding/jamesstein.html)\n",
        "- [Leave One Out](http://contrib.scikit-learn.org/categorical-encoding/leaveoneout.html)\n",
        "- [M-estimate](http://contrib.scikit-learn.org/categorical-encoding/mestimate.html)\n",
        "- [Target Encoder](http://contrib.scikit-learn.org/categorical-encoding/targetencoder.html)\n",
        "- [Weight of Evidence](http://contrib.scikit-learn.org/categorical-encoding/woe.html)\n",
        "\n",
        "Category Encoder's mean encoding implementations work for regression problems or binary classification problems. \n",
        "\n",
        "For multi-class classification problems, you will need to temporarily reformulate it as binary classification. For example:\n",
        "\n",
        "```python\n",
        "encoder = ce.TargetEncoder(min_samples_leaf=..., smoothing=...) # Both parameters > 1 to avoid overfitting\n",
        "X_train_encoded = encoder.fit_transform(X_train, y_train=='functional')\n",
        "X_val_encoded = encoder.transform(X_train, y_val=='functional')\n",
        "```\n",
        "\n",
        "For this reason, mean encoding won't work well within pipelines for multi-class classification problems.\n",
        "\n",
        "**3.** The **[dirty_cat](https://dirty-cat.github.io/stable/)** library has a Target Encoder implementation that works with multi-class classification.\n",
        "\n",
        "```python\n",
        " dirty_cat.TargetEncoder(clf_type='multiclass-clf')\n",
        "```\n",
        "It also implements an interesting idea called [\"Similarity Encoder\" for dirty categories](https://www.slideshare.net/GaelVaroquaux/machine-learning-on-non-curated-data-154905090).\n",
        "\n",
        "However, it seems like dirty_cat doesn't handle missing values or unknown categories as well as category_encoders does. And you may need to use it with one column at a time, instead of with your whole dataframe.\n",
        "\n",
        "**4. [Embeddings](https://www.kaggle.com/learn/embeddings)** can work well with sparse / high cardinality categoricals.\n",
        "\n",
        "_**I hope it’s not too frustrating or confusing that there’s not one “canonical” way to encode categoricals. It’s an active area of research and experimentation! Maybe you can make your own contributions!**_"
      ]
    },
    {
      "cell_type": "markdown",
      "metadata": {
        "id": "NiHWvpCBuoPU",
        "colab_type": "text"
      },
      "source": [
        "### Setup\n",
        "\n",
        "You can work locally (follow the [local setup instructions](https://lambdaschool.github.io/ds/unit2/local/)) or on Colab (run the code cell below)."
      ]
    },
    {
      "cell_type": "code",
      "metadata": {
        "colab_type": "code",
        "id": "o9eSnDYhUGD7",
        "colab": {}
      },
      "source": [
        "%%capture\n",
        "import sys\n",
        "\n",
        "# If you're on Colab:\n",
        "if 'google.colab' in sys.modules:\n",
        "    DATA_PATH = 'https://raw.githubusercontent.com/LambdaSchool/DS-Unit-2-Kaggle-Challenge/master/data/'\n",
        "    !pip install category_encoders==2.*\n",
        "\n",
        "# If you're working locally:\n",
        "else:\n",
        "    DATA_PATH = '../data/'"
      ],
      "execution_count": 0,
      "outputs": []
    },
    {
      "cell_type": "code",
      "metadata": {
        "colab_type": "code",
        "id": "QJBD4ruICm1m",
        "outputId": "b4739e54-40c8-4531-80bb-35cd6dbf2ebd",
        "colab": {
          "base_uri": "https://localhost:8080/",
          "height": 35
        }
      },
      "source": [
        "import pandas as pd\n",
        "from sklearn.model_selection import train_test_split\n",
        "\n",
        "train = pd.merge(pd.read_csv(DATA_PATH+'waterpumps/train_features.csv'), \n",
        "                 pd.read_csv(DATA_PATH+'waterpumps/train_labels.csv'))\n",
        "test = pd.read_csv(DATA_PATH+'waterpumps/test_features.csv')\n",
        "sample_submission = pd.read_csv(DATA_PATH+'waterpumps/sample_submission.csv')\n",
        "\n",
        "train.shape, test.shape"
      ],
      "execution_count": 153,
      "outputs": [
        {
          "output_type": "execute_result",
          "data": {
            "text/plain": [
              "((59400, 41), (14358, 40))"
            ]
          },
          "metadata": {
            "tags": []
          },
          "execution_count": 153
        }
      ]
    },
    {
      "cell_type": "code",
      "metadata": {
        "id": "G6w3_BMku9xw",
        "colab_type": "code",
        "outputId": "b5cbf2ac-044f-4e08-d8c6-be57bab8f2be",
        "colab": {
          "base_uri": "https://localhost:8080/",
          "height": 35
        }
      },
      "source": [
        "train, validation = train_test_split(train, train_size=0.80, test_size=0.20, stratify=train['status_group'], random_state=1337)\n",
        "\n",
        "train.shape, validation.shape, test.shape"
      ],
      "execution_count": 154,
      "outputs": [
        {
          "output_type": "execute_result",
          "data": {
            "text/plain": [
              "((47520, 41), (11880, 41), (14358, 40))"
            ]
          },
          "metadata": {
            "tags": []
          },
          "execution_count": 154
        }
      ]
    },
    {
      "cell_type": "code",
      "metadata": {
        "id": "9MH8ZfHKvAJi",
        "colab_type": "code",
        "colab": {}
      },
      "source": [
        "target = 'status_group'\n",
        "\n",
        "y_train = train[target]\n",
        "y_validation = validation[target]"
      ],
      "execution_count": 0,
      "outputs": []
    },
    {
      "cell_type": "code",
      "metadata": {
        "id": "T3sqTaeMvEYq",
        "colab_type": "code",
        "outputId": "d0637f9c-f0b3-42ff-da2e-d4a392bd5348",
        "colab": {
          "base_uri": "https://localhost:8080/",
          "height": 35
        }
      },
      "source": [
        "from sklearn.metrics import accuracy_score\n",
        "\n",
        "majority_class = y_train.mode()[0]\n",
        "y_pred = [majority_class] * len(y_train)\n",
        "\n",
        "print(\"Train dataset baseline accuracy is: \", accuracy_score(y_train, y_pred))"
      ],
      "execution_count": 156,
      "outputs": [
        {
          "output_type": "stream",
          "text": [
            "Train dataset baseline accuracy is:  0.5430765993265994\n"
          ],
          "name": "stdout"
        }
      ]
    },
    {
      "cell_type": "code",
      "metadata": {
        "id": "6o6bbLKxvMIJ",
        "colab_type": "code",
        "outputId": "91cbe222-1726-41c8-96dc-924aa12263f9",
        "colab": {
          "base_uri": "https://localhost:8080/",
          "height": 35
        }
      },
      "source": [
        "y_pred = [majority_class] * len(y_validation)\n",
        "\n",
        "print(\"Validation dataset baseline accuracy is: \", accuracy_score(y_validation, y_pred))"
      ],
      "execution_count": 157,
      "outputs": [
        {
          "output_type": "stream",
          "text": [
            "Validation dataset baseline accuracy is:  0.5430976430976431\n"
          ],
          "name": "stdout"
        }
      ]
    },
    {
      "cell_type": "code",
      "metadata": {
        "id": "3L7CDx5XvXFx",
        "colab_type": "code",
        "colab": {}
      },
      "source": [
        "def wrangle(X): #lets clean our data!\n",
        "    import numpy as np\n",
        "    from sklearn.cluster import DBSCAN\n",
        "\n",
        "    X = X.copy()\n",
        "\n",
        "    X['date_recorded'] = pd.to_datetime(X['date_recorded'], infer_datetime_format=True)\n",
        "\n",
        "    zero_columns = ['population', 'construction_year'] #columns that contain high amount of 0 and should not\n",
        "    X['latitude'] = X['latitude'].replace(-2e-08, 0)\n",
        "\n",
        "    coords = X[['latitude','longitude']]\n",
        "\n",
        "    #miles_per_radian = 3959\n",
        "    #epsilon = 1.0 / miles_per_radian\n",
        "    #db = DBSCAN(eps=epsilon, min_samples=4, algorithm='ball_tree', metric='haversine').fit(np.radians(coords))\n",
        "    #cluster_labels = db.labels_\n",
        "\n",
        "    #X['labels'] = cluster_labels\n",
        "\n",
        "    for col in zero_columns:\n",
        "        X[col] = X[col].replace(0, np.nan) #set 0 values to null\n",
        "\n",
        "    def impute_longitude_by_region(row): #bin null longitude into its respective region. Gives us a slighter better guess.\n",
        "        if row['longitude'] == 0:\n",
        "            return (X[(X['region'] == row['region']) & (X['longitude'] != 0)].longitude.mean())\n",
        "        else:\n",
        "            return row['longitude']\n",
        "\n",
        "\n",
        "    def impute_latitude_by_region(row): #bin null latitude into its respective region. Gives us a slighter better guess.\n",
        "        if row['latitude'] == 0:\n",
        "            return (X[(X['region'] == row['region']) & (X['latitude'] != 0)].latitude.mean())\n",
        "        else:\n",
        "            return row['latitude']\n",
        "\n",
        "    def impute_gpsheight(row): #bin null gps height into its respective region. Gives us a slighter better guess.\n",
        "        if (row['gps_height'] == 0) and (row['region'] != 'Mbeya' and row['region'] != 'Kagera'\n",
        "        and row['region'] != 'Dodoma' and row['region'] != 'Tabora'):\n",
        "            return (X[(X['region'] == row['region']) & (X['gps_height'] != 0)].gps_height.mean())\n",
        "        elif row['region'] == 'Mbeya':\n",
        "            return 1348 #obtained from https://en-us.topographic-map.com/maps/ttgd/Mbeya/\n",
        "        elif row['region'] == 'Kagera':\n",
        "            return 1281 #obtained from https://en-us.topographic-map.com/maps/egpg/Kagera/\n",
        "        elif row['region'] == 'Dodoma':\n",
        "            return 1143 #obtained from https://en-us.topographic-map.com/maps/e6vm/Dodoma/\n",
        "        elif row['region'] == 'Tabora':\n",
        "            return 1177 #obtained from https://elevation.maplogs.com/poi/tabora_region_tanzania.214008.html\n",
        "        else:\n",
        "            return row['gps_height']\n",
        "\n",
        "    X['longitude'] = X.apply(impute_longitude_by_region, axis=1)\n",
        "    X['latitude'] = X.apply(impute_latitude_by_region, axis=1)\n",
        "\n",
        "    X['gps_height'] = X.apply(impute_gpsheight, axis=1) #4 regions do not contain any gps height data. We will manually apply an average obtained for each region\n",
        "                                                        #we will obtain this from https://en-us.topographic-map.com/maps/tlwx/Tanzania/\n",
        "                                                        #we will go with the assumption that gps_height is in meters.\n",
        "                                                        #we conclude this because the average gps_height, with zeros removed, is 1021. The average elevation in Tanzania is 936.\n",
        "                                                        #We can infer based on the similarity in means, that the unit of measurement is meters.\n",
        "\n",
        "    X['years_old'] = X['date_recorded'].dt.year - X['construction_year'] #how many years since inspection\n",
        "    X['month_recorded'] = X['date_recorded'].dt.month\n",
        "\n",
        "    X = X.drop(['quantity_group', 'recorded_by', 'date_recorded', 'wpt_name',\n",
        "                'subvillage', 'extraction_type_group', 'waterpoint_type_group',\n",
        "                'source_type', 'quality_group', 'payment_type',\n",
        "                'management_group', 'extraction_type_class', 'region_code',\n",
        "                'district_code', 'num_private', 'scheme_name', 'source_class',\n",
        "                'scheme_management', 'amount_tsh'], axis=1) #drop recorded by as its a constant. drop quantity_group as its a duplicate column.\n",
        "    return X"
      ],
      "execution_count": 0,
      "outputs": []
    },
    {
      "cell_type": "code",
      "metadata": {
        "id": "bH9VhpUWvZNs",
        "colab_type": "code",
        "colab": {}
      },
      "source": [
        "train = wrangle(train)\n",
        "validation = wrangle(validation)\n",
        "test = wrangle(test)"
      ],
      "execution_count": 0,
      "outputs": []
    },
    {
      "cell_type": "code",
      "metadata": {
        "id": "OIazo9KXveUw",
        "colab_type": "code",
        "colab": {}
      },
      "source": [
        "train_features = train.drop([target, 'id'], axis=1)\n",
        "numeric_features = train_features.select_dtypes(include='number').columns.tolist()\n",
        "\n",
        "categorical_features = train_features.select_dtypes(exclude='number').nunique().index.tolist()\n",
        "\n",
        "\n",
        "features = numeric_features + categorical_features"
      ],
      "execution_count": 0,
      "outputs": []
    },
    {
      "cell_type": "code",
      "metadata": {
        "id": "sLEE-dzHviOq",
        "colab_type": "code",
        "colab": {}
      },
      "source": [
        "y_train = train[target]\n",
        "X_train = train[features]\n",
        "y_validation = validation[target]\n",
        "X_validation = validation[features]\n",
        "X_test = test[features]"
      ],
      "execution_count": 0,
      "outputs": []
    },
    {
      "cell_type": "code",
      "metadata": {
        "id": "Isbl0KGbwCto",
        "colab_type": "code",
        "outputId": "d680bed7-9559-4c7a-8764-fb42ddad75fa",
        "colab": {
          "base_uri": "https://localhost:8080/",
          "height": 35
        }
      },
      "source": [
        "\n",
        "from sklearn.pipeline import Pipeline\n",
        "from sklearn.preprocessing import StandardScaler\n",
        "from sklearn.experimental import enable_iterative_imputer\n",
        "from sklearn.impute import SimpleImputer, IterativeImputer, KNNImputer\n",
        "from sklearn.feature_selection import SelectKBest\n",
        "from sklearn.linear_model import LogisticRegression\n",
        "from sklearn.tree import DecisionTreeClassifier\n",
        "from sklearn.ensemble import RandomForestClassifier, GradientBoostingClassifier\n",
        "import category_encoders as ce\n",
        "from sklearn.metrics import accuracy_score\n",
        "from sklearn.model_selection import RandomizedSearchCV, GridSearchCV\n",
        "from scipy.stats import randint, uniform\n",
        "from sklearn.feature_selection import SelectFromModel\n",
        "\n",
        "\n",
        "train_pipeline = Pipeline([#('encoder', ce.OneHotEncoder(use_cat_names=True)),\n",
        "                           ('encoder', ce.OrdinalEncoder()),\n",
        "                           ('imputer', SimpleImputer(strategy='median')),\n",
        "                           ('model', RandomForestClassifier(random_state=1337, min_samples_leaf=3, max_features=10))])\n",
        "\n",
        "\n",
        "param_distributions = {\n",
        "    'model__n_estimators': randint(50, 500),\n",
        "    'model__max_depth': [5, 10, 15, 20, 21, 22, 23, 24, 25, 26, 27, 28, 29, 30, None],\n",
        "    'model__max_features': uniform(0, 1),\n",
        "    'model__min_samples_leaf': randint(1, 20)\n",
        " }\n",
        "\n",
        "grid_distributions = {\n",
        "    'model__n_estimators': range(50, 300, 50),\n",
        "    'model__max_depth': range(1, 30),\n",
        "    'model__max_features': (1, 30),\n",
        "    'model__min_samples_leaf': range(1, 10)\n",
        "}\n",
        "\n",
        "# ### If you're on Colab, decrease n_iter & cv parameters\n",
        "search = RandomizedSearchCV(\n",
        "    train_pipeline,\n",
        "    param_distributions=param_distributions,\n",
        "    n_iter=5,\n",
        "    cv=3,\n",
        "    scoring='accuracy',\n",
        "    verbose=10,\n",
        "    return_train_score=True,\n",
        "    n_jobs=-1\n",
        ")\n",
        "\n",
        "#search = GridSearchCV(\n",
        "#    train_pipeline,\n",
        "#    param_grid=grid_distributions,\n",
        "#    cv=3,\n",
        "#    scoring='accuracy',\n",
        "#    verbose=10,\n",
        "#    return_train_score=True,\n",
        "#    n_jobs=-1\n",
        "#)\n",
        "\n",
        "train_pipeline.fit(X_train, y_train)\n",
        "y_pred = train_pipeline.predict(X_validation)\n",
        "train_pred = train_pipeline.predict(X_train)\n",
        "test_pred = train_pipeline.predict(X_test)\n",
        "\n",
        "#search.fit(X_train, y_train)\n",
        "#y_pred = search.predict(X_validation)\n",
        "#train_pred = search.predict(X_train)\n",
        "#test_pred = search.predict(X_test)\n",
        "\n",
        "print(\"Validation accuracy score:\", accuracy_score(y_validation, y_pred), \"                    Train accuracy is: \", accuracy_score(y_train, train_pred))"
      ],
      "execution_count": 162,
      "outputs": [
        {
          "output_type": "stream",
          "text": [
            "Validation accuracy score: 0.8106060606060606                     Train accuracy is:  0.9206018518518518\n"
          ],
          "name": "stdout"
        }
      ]
    },
    {
      "cell_type": "markdown",
      "metadata": {
        "id": "ulH4onOjSF2_",
        "colab_type": "text"
      },
      "source": [
        "# WIP: This notebook is not 100% up to date, am doing alot of experimenting locally."
      ]
    },
    {
      "cell_type": "code",
      "metadata": {
        "id": "MVrcDSM9YJCk",
        "colab_type": "code",
        "outputId": "ced06efa-a43a-4f31-a615-dba3cfbeeb19",
        "colab": {
          "base_uri": "https://localhost:8080/",
          "height": 1000
        }
      },
      "source": [
        "import matplotlib.pyplot as plt\n",
        "\n",
        "\n",
        "#model = search.best_estimator_.named_steps.model\n",
        "#encoder = search.best_estimator_.named_steps.encoder\n",
        "\n",
        "model = train_pipeline.named_steps.model\n",
        "encoder = train_pipeline.named_steps.encoder\n",
        "\n",
        "\n",
        "encoded_columns = encoder.transform(X_validation).columns\n",
        "importances = pd.Series(model.feature_importances_, encoded_columns)\n",
        "plt.figure(figsize=(10,30))\n",
        "importances.sort_values().plot.barh(color='grey');"
      ],
      "execution_count": 163,
      "outputs": [
        {
          "output_type": "display_data",
          "data": {
            "image/png": "[encoded data removed]",
            "text/plain": [
              "<Figure size 720x2160 with 1 Axes>"
            ]
          },
          "metadata": {
            "tags": [],
            "needs_background": "light"
          }
        }
      ]
    },
    {
      "cell_type": "code",
      "metadata": {
        "id": "8oYjRjAdyKv9",
        "colab_type": "code",
        "colab": {}
      },
      "source": [
        "submission = sample_submission.copy()\n",
        "submission['status_group'] = test_pred\n",
        "submission.to_csv('martin-herbert_random_forest_2.csv', index=False)"
      ],
      "execution_count": 0,
      "outputs": []
    },
    {
      "cell_type": "code",
      "metadata": {
        "id": "eE3gx4nAcadD",
        "colab_type": "code",
        "colab": {}
      },
      "source": [
        "#search.best_params_"
      ],
      "execution_count": 0,
      "outputs": []
    },
    {
      "cell_type": "code",
      "metadata": {
        "id": "icD7uo12fSBt",
        "colab_type": "code",
        "colab": {}
      },
      "source": [
        "#search.best_estimator_.named_steps.encoder"
      ],
      "execution_count": 0,
      "outputs": []
    },
    {
      "cell_type": "code",
      "metadata": {
        "id": "sbgIxYYYfrNa",
        "colab_type": "code",
        "colab": {}
      },
      "source": [
        ""
      ],
      "execution_count": 0,
      "outputs": []
    }
  ]
}